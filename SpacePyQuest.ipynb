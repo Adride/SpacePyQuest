{
 "cells": [
  {
   "cell_type": "code",
   "execution_count": null,
   "metadata": {},
   "outputs": [],
   "source": [
    "%load_ext autoreload\n",
    "%autoreload 2"
   ]
  },
  {
   "cell_type": "code",
   "execution_count": null,
   "metadata": {},
   "outputs": [],
   "source": [
    "import pystq.widget as widget\n",
    "from pystq.widget import spaceTimeQuest\n",
    "import pystq.materials as materials\n",
    "import pystq.sites as sites"
   ]
  },
  {
   "cell_type": "markdown",
   "metadata": {},
   "source": [
    "Insert the name of one of the dictionaries below into the brackets of the spaceTimeQuest constructor below to initialise the detector as either aLIGO or Voyager. Else, leave it blank to create a detector with random configurations."
   ]
  },
  {
   "cell_type": "code",
   "execution_count": null,
   "metadata": {},
   "outputs": [],
   "source": [
    "aLIGO = {\n",
    "    'depth' : 0,\n",
    "    'pumps' : 6,\n",
    "    'sus_stages' : 4,\n",
    "    'sus_length' : 0.5,\n",
    "    'mirror_mass' : 40,\n",
    "    'power' : 125,\n",
    "    'roughness' : 100,\n",
    "    'site' : sites.Desert,\n",
    "    'material' : materials.Silica,\n",
    "    'temperature' : 290,\n",
    "}\n",
    "\n",
    "Voyager = aLIGO\n",
    "Voyager['material'] = materials.Silicon\n",
    "Voyager['temperature'] = 295\n",
    "Voyager['pumps'] = 8\n",
    "Voyager['mirror_mass'] = 80\n",
    "Voyager['roughness'] = 10\n",
    "Voyager['power'] = 150\n"
   ]
  },
  {
   "cell_type": "code",
   "execution_count": null,
   "metadata": {
    "scrolled": true
   },
   "outputs": [],
   "source": [
    "stq = spaceTimeQuest()"
   ]
  },
  {
   "cell_type": "code",
   "execution_count": null,
   "metadata": {},
   "outputs": [],
   "source": [
    "stq.dropdown"
   ]
  },
  {
   "cell_type": "code",
   "execution_count": null,
   "metadata": {
    "collapsed": true
   },
   "outputs": [],
   "source": []
  }
 ],
 "metadata": {
  "kernelspec": {
   "display_name": "Python 3",
   "language": "python",
   "name": "python3"
  },
  "language_info": {
   "codemirror_mode": {
    "name": "ipython",
    "version": 3
   },
   "file_extension": ".py",
   "mimetype": "text/x-python",
   "name": "python",
   "nbconvert_exporter": "python",
   "pygments_lexer": "ipython3",
   "version": "3.5.4"
  }
 },
 "nbformat": 4,
 "nbformat_minor": 2
}
