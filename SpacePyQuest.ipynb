{
 "cells": [
  {
   "cell_type": "markdown",
   "metadata": {
    "collapsed": true
   },
   "source": [
    "# Space-Py Quest: The Python-Based Interferometer Optimisation Game"
   ]
  },
  {
   "cell_type": "markdown",
   "metadata": {
    "collapsed": true
   },
   "source": [
    "## Welcome to Space-Py Quest! The aim of the game is simple: detect as many gravitational waves as you can, without blowing your budget."
   ]
  },
  {
   "cell_type": "markdown",
   "metadata": {},
   "source": [
    "## Insert the name of one of the dictionaries below into the brackets of the spaceTimeQuest constructor below to initialise the detector as either aLIGO or Voyager. Else, leave it blank to create a detector with random configurations."
   ]
  },
  {
   "cell_type": "code",
   "execution_count": null,
   "metadata": {},
   "outputs": [],
   "source": [
    "%load_ext autoreload\n",
    "%autoreload 2\n",
    "import pystq.widget as widget\n",
    "from pystq.widget import spaceTimeQuest\n",
    "import pystq.materials as materials\n",
    "import pystq.sites as sites\n",
    "\n",
    "aLIGO = {\n",
    "    'depth' : 0,\n",
    "    'pumps' : 6,\n",
    "    'sus_stages' : 4,\n",
    "    'sus_length' : 0.5,\n",
    "    'mirror_mass' : 40,\n",
    "    'power' : 125,\n",
    "    'roughness' : 100,\n",
    "    'site' : sites.Desert,\n",
    "    'material' : materials.Silica,\n",
    "    'temperature' : 290,\n",
    "}\n",
    "\n",
    "Voyager = {\n",
    "    'depth' : 0,\n",
    "    'pumps' : 8,\n",
    "    'sus_stages' : 4,\n",
    "    'sus_length' : 0.5,\n",
    "    'mirror_mass' : 80,\n",
    "    'power' : 150,\n",
    "    'roughness' : 10,\n",
    "    'site' : sites.Desert,\n",
    "    'material' : materials.Silicon,\n",
    "    'temperature' : 295,\n",
    "}"
   ]
  },
  {
   "cell_type": "markdown",
   "metadata": {},
   "source": [
    "# Use the widgets to adjust the detector's configuration. This will change its sensitivity curves on the noise plot below. When you think it's as sensitive as it can be, find the 'Science Run' button widget to see how many detections you make! Can you stay within your budget?"
   ]
  },
  {
   "cell_type": "code",
   "execution_count": null,
   "metadata": {
    "scrolled": true
   },
   "outputs": [],
   "source": [
    "stq = spaceTimeQuest(aLIGO)"
   ]
  },
  {
   "cell_type": "code",
   "execution_count": null,
   "metadata": {},
   "outputs": [],
   "source": [
    "stq.dropdown"
   ]
  },
  {
   "cell_type": "code",
   "execution_count": null,
   "metadata": {
    "collapsed": true
   },
   "outputs": [],
   "source": []
  }
 ],
 "metadata": {
  "kernelspec": {
   "display_name": "Python 3",
   "language": "python",
   "name": "python3"
  },
  "language_info": {
   "codemirror_mode": {
    "name": "ipython",
    "version": 3
   },
   "file_extension": ".py",
   "mimetype": "text/x-python",
   "name": "python",
   "nbconvert_exporter": "python",
   "pygments_lexer": "ipython3",
   "version": "3.5.4"
  }
 },
 "nbformat": 4,
 "nbformat_minor": 2
}
